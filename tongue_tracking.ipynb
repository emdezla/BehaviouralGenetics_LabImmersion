{
 "cells": [
  {
   "cell_type": "markdown",
   "metadata": {
    "colab_type": "text",
    "id": "RK255E7YoEIt"
   },
   "source": [
    "# Tongue tracking\n",
    "\n",
    "This notebook shows the steps for creating a custom DeepLabCut project, labelling the frames to use as training data, training the neural network, analysing the totality of the videos and predicting the trajectory of every point being tracked. "
   ]
  },
  {
   "cell_type": "markdown",
   "metadata": {
    "colab_type": "text",
    "id": "9Uoz9mdPoEIy"
   },
   "source": [
    "### Project creation\n",
    "We define the necessary directory paths for retrieving the videos and create the specific task *jaw_tongue_test-Emilio* with its corresponding [configuration file](./jaw_tongue_test-Emilio-2020-06-30/config.yaml). This file is of crucial importance because it is where we define the main parameters of our neural network, such as its type, the batch size and the specific points to track. In this case we chose a 50Resnet neural network with a batch size of 8 and we decide to track the jaw, the snout, the spout, the tongue and the paw. \n"
   ]
  },
  {
   "cell_type": "code",
   "execution_count": 1,
   "metadata": {
    "colab": {},
    "colab_type": "code",
    "id": "jqLZhp7EoEI0"
   },
   "outputs": [],
   "source": [
    "import deeplabcut\n",
    "import os \n",
    "raw_path = '//sv1files.epfl.ch/Petersen-Lab/analysis/Jun_Huang/Film/'"
   ]
  },
  {
   "cell_type": "code",
   "execution_count": 2,
   "metadata": {},
   "outputs": [],
   "source": [
    "list_animal=next(os.walk(raw_path))[1]\n",
    "path_animal = list_animal\n",
    "list_day = [[] for i in range(len(path_animal))]\n",
    "path_day = list_day\n",
    "list_session = [[[] for j in range(len(path_day))] for i in range(len(path_animal))]\n",
    "path_session = list_session\n",
    "\n",
    "for i in range(len(list_animal)):\n",
    "    path_animal[i]=raw_path + list_animal[i] + '/'\n",
    "    list_day[i]=next(os.walk(path_animal[i]))[1]\n",
    "    for j in range(len(list_day[i])):\n",
    "        path_day[i][j]=path_animal[i] + list_day[i][j] + '/'\n",
    "        list_session[i][j] = next(os.walk(path_day[i][j]))[1]\n",
    "        for k in range(len(list_session[i][j])):\n",
    "            path_session[i][j][k]=path_day[i][j] + list_session[i][j][k] + '/'\n",
    "        \n",
    "path_session_flat = [val for sublist in path_session for val in sublist]\n",
    "path_list = [val for sublist in path_session_flat for val in sublist]"
   ]
  },
  {
   "cell_type": "code",
   "execution_count": null,
   "metadata": {},
   "outputs": [],
   "source": [
    "path_videos=[]\n",
    "for path in path_list:\n",
    "    list_videos = next(os.walk(path))[2]\n",
    "    path_videos.append(path+list_videos[0]) # get only first video from every session\n",
    "    #for video in list_videos:\n",
    "        #path_videos.append(path+video)"
   ]
  },
  {
   "cell_type": "code",
   "execution_count": null,
   "metadata": {},
   "outputs": [],
   "source": [
    "task='jaw_tongue_test' # Enter the name of your experiment Task\n",
    "experimenter='Emilio' # Enter the name of the experimenter\n",
    "#path_config_file=deeplabcut.create_new_project(task,experimenter,path_videos, working_directory='C://Users//Jun//Code',copy_videos=False)\n",
    "path_config_file = 'C://Users//Jun//Code//jaw_tongue_test-Emilio-2020-06-30/config.yaml'"
   ]
  },
  {
   "cell_type": "markdown",
   "metadata": {
    "colab_type": "text",
    "id": "Gjn6ZDonoEJH"
   },
   "source": [
    "### Frames labelling\n",
    "\n",
    "For labeling the training data that will be provided to the neural network, we select the firt trial video of every session of every animal, obtining a total of 126 videos for training purposes. From every video we extract 16 frames, giving us a total of 16x126=2016 frames to label. The most important points to select are the tongue and the spout as described in the general notebook. It is important the extracted frames are quite variant for better generalisation of our dataset. In this case we obtain around 30% of the frames with the animal licking, which is a good compromise.  "
   ]
  },
  {
   "cell_type": "code",
   "execution_count": null,
   "metadata": {
    "colab": {},
    "colab_type": "code",
    "id": "iyROSOiEoEJI"
   },
   "outputs": [],
   "source": [
    "%matplotlib inline\n",
    "deeplabcut.extract_frames(path_config_file) "
   ]
  },
  {
   "cell_type": "code",
   "execution_count": null,
   "metadata": {
    "colab": {},
    "colab_type": "code",
    "id": "iyROSOiEoEJI"
   },
   "outputs": [],
   "source": [
    "%gui wx\n",
    "deeplabcut.label_frames(path_config_file)"
   ]
  },
  {
   "cell_type": "code",
   "execution_count": null,
   "metadata": {
    "colab": {},
    "colab_type": "code",
    "id": "iyROSOiEoEJI"
   },
   "outputs": [],
   "source": [
    "deeplabcut.create_training_dataset(path_config_file)"
   ]
  },
  {
   "cell_type": "markdown",
   "metadata": {
    "colab_type": "text",
    "id": "c4FczXGDoEJU"
   },
   "source": [
    "### Network training and evaluation\n",
    "\n",
    "The previusly prepared training dataset is shuffled and given to the neural network as input for training purposes. This process is extremely computanionally expensive and wont't work if CUDA is not properlly installed on the computer. After the training is finished, the network is tested with some of the frames previously labeled to see if the prediction results are satisfactory. "
   ]
  },
  {
   "cell_type": "code",
   "execution_count": null,
   "metadata": {
    "colab": {},
    "colab_type": "code",
    "id": "_pOvDq_2oEJW"
   },
   "outputs": [],
   "source": [
    "import tensorflow as tf\n",
    "config = tf.ConfigProto()\n",
    "config.gpu_options.allow_growth = True\n",
    "sess = tf.Session(config=config)"
   ]
  },
  {
   "cell_type": "code",
   "execution_count": null,
   "metadata": {
    "colab": {},
    "colab_type": "code",
    "id": "_pOvDq_2oEJW"
   },
   "outputs": [],
   "source": [
    "deeplabcut.train_network(path_config_file)"
   ]
  },
  {
   "cell_type": "code",
   "execution_count": null,
   "metadata": {
    "colab": {},
    "colab_type": "code",
    "id": "nv4zlbrnoEJg"
   },
   "outputs": [],
   "source": [
    "deeplabcut.evaluate_network(path_config_file, plotting=True)"
   ]
  },
  {
   "cell_type": "markdown",
   "metadata": {
    "colab_type": "text",
    "id": "OVFLSKKfoEJk"
   },
   "source": [
    "### Video analysis\n",
    "The resulting trained neural network is used with the rest of the videos for automatically tracking the points of interest and plotting its tracectory during every trial. Thsi data will later be use for cross-validating the other behavioutal data collected during the experiments.\n",
    "The results are stored in hd5 file in the same directory where the video resides. "
   ]
  },
  {
   "cell_type": "code",
   "execution_count": 4,
   "metadata": {},
   "outputs": [],
   "source": [
    "analyze_path_videos=[]\n",
    "for path in path_list:\n",
    "    list_videos = next(os.walk(path))[2]\n",
    "    for video in list_videos:\n",
    "        if len(path+video)<130:\n",
    "            analyze_path_videos.append(path+video)"
   ]
  },
  {
   "cell_type": "code",
   "execution_count": null,
   "metadata": {
    "colab": {},
    "colab_type": "code",
    "id": "Y_LZiS_0oEJl"
   },
   "outputs": [],
   "source": [
    "deeplabcut.analyze_videos(path_config_file,analyze_path_videos, save_as_csv=True)"
   ]
  },
  {
   "cell_type": "code",
   "execution_count": null,
   "metadata": {},
   "outputs": [],
   "source": [
    "deeplabcut.create_labeled_video(path_config_file,analyze_path_videos)"
   ]
  },
  {
   "cell_type": "code",
   "execution_count": null,
   "metadata": {},
   "outputs": [],
   "source": [
    "%matplotlib inline\n",
    "%matplotlib notebook\n",
    "\n",
    "deeplabcut.plot_trajectories(path_config_file,analyze_path_videos,showfigures=False)\n"
   ]
  }
 ],
 "metadata": {
  "accelerator": "GPU",
  "colab": {
   "name": "Demo-yourowndata.ipynb",
   "provenance": [],
   "version": "0.3.2"
  },
  "kernelspec": {
   "display_name": "Python [conda env:DLC-GPU] *",
   "language": "python",
   "name": "conda-env-DLC-GPU-py"
  },
  "language_info": {
   "codemirror_mode": {
    "name": "ipython",
    "version": 3
   },
   "file_extension": ".py",
   "mimetype": "text/x-python",
   "name": "python",
   "nbconvert_exporter": "python",
   "pygments_lexer": "ipython3",
   "version": "3.7.7"
  },
  "varInspector": {
   "cols": {
    "lenName": 16,
    "lenType": 16,
    "lenVar": 40
   },
   "kernels_config": {
    "python": {
     "delete_cmd_postfix": "",
     "delete_cmd_prefix": "del ",
     "library": "var_list.py",
     "varRefreshCmd": "print(var_dic_list())"
    },
    "r": {
     "delete_cmd_postfix": ") ",
     "delete_cmd_prefix": "rm(",
     "library": "var_list.r",
     "varRefreshCmd": "cat(var_dic_list()) "
    }
   },
   "types_to_exclude": [
    "module",
    "function",
    "builtin_function_or_method",
    "instance",
    "_Feature"
   ],
   "window_display": false
  }
 },
 "nbformat": 4,
 "nbformat_minor": 4
}
