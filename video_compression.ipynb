{
 "cells": [
  {
   "cell_type": "markdown",
   "metadata": {},
   "source": [
    "# Video compression\n",
    "\n",
    "The experiment videos are organised, labeled and compressed for its later use in the computer vision models"
   ]
  },
  {
   "cell_type": "code",
   "execution_count": 1,
   "metadata": {},
   "outputs": [],
   "source": [
    "import glob\n",
    "import os\n",
    "import cv2\n",
    "import numpy as np\n",
    "import natsort as ns"
   ]
  },
  {
   "cell_type": "code",
   "execution_count": null,
   "metadata": {},
   "outputs": [],
   "source": [
    "#!pip install natsort\n",
    "#!pip install ffmpeg-python"
   ]
  },
  {
   "cell_type": "code",
   "execution_count": 2,
   "metadata": {},
   "outputs": [],
   "source": [
    "#this gives all *tif files in subfolders\n",
    "#import glob\n",
    "#my_path = 'D:\\\\test\\\\'\n",
    "#files = glob.glob(my_path + '/**/*.tif', recursive=True)"
   ]
  },
  {
   "cell_type": "code",
   "execution_count": 3,
   "metadata": {},
   "outputs": [],
   "source": [
    "#this gives all subfolders\n",
    "#[x[0] for x in os.walk(my_path)]"
   ]
  },
  {
   "cell_type": "code",
   "execution_count": 4,
   "metadata": {},
   "outputs": [],
   "source": [
    "#this gives immediate child directories in the current folder\n",
    "#next(os.walk('.'))[1]"
   ]
  },
  {
   "cell_type": "code",
   "execution_count": 7,
   "metadata": {},
   "outputs": [],
   "source": [
    "#list of animals are under my_path\n",
    "my_path = 'D:\\\\test\\\\'\n",
    "list_animal=next(os.walk(my_path))[1]\n",
    "path_animal = list_animal\n",
    "\n",
    "for i in range(len(list_animal)):\n",
    "    path_animal[i]=my_path + list_animal[i] + '\\\\'\n",
    "    \n",
    "list_session = [None] * len(path_animal)\n",
    "for i in range(len(path_animal)):\n",
    "        list_session[i]=next(os.walk(list_animal[i]))[1]\n",
    "        \n",
    "path_session = list_session\n",
    "for i in range(len(path_animal)):\n",
    "    for j in range(len(list_session[i])):\n",
    "        path_session[i][j]=path_animal[i] + list_session[i][j] + '\\\\'"
   ]
  },
  {
   "cell_type": "code",
   "execution_count": 9,
   "metadata": {},
   "outputs": [],
   "source": [
    "path_session_flat = [val for sublist in path_session for val in sublist]\n",
    "list_trial = [None] * len(path_session_flat)\n",
    "for i in range(len(path_session_flat)):\n",
    "        list_trial[i]=next(os.walk(path_session_flat[i]))[1]"
   ]
  },
  {
   "cell_type": "code",
   "execution_count": 10,
   "metadata": {},
   "outputs": [],
   "source": [
    "path_trial=list_trial\n",
    "for i in range(len(path_session_flat)):\n",
    "    for j in range(len(list_trial[i])):\n",
    "        path_trial[i][j]=path_session_flat[i] + list_trial[i][j] + '\\\\'"
   ]
  },
  {
   "cell_type": "code",
   "execution_count": 11,
   "metadata": {},
   "outputs": [],
   "source": [
    "path_trial_flat = [val for sublist in path_trial for val in sublist]"
   ]
  },
  {
   "cell_type": "code",
   "execution_count": 18,
   "metadata": {},
   "outputs": [],
   "source": [
    "path_frames = [None] * len(path_trial_flat)\n",
    "path_session4trial = [None] * len(path_trial_flat)\n",
    "path_trialname = [None] * len(path_trial_flat)\n",
    "for i in range(len(path_trial_flat)):\n",
    "    path_frames[i] = glob.glob(path_trial_flat[i]+'*.tif', recursive=True)"
   ]
  },
  {
   "cell_type": "code",
   "execution_count": 20,
   "metadata": {},
   "outputs": [],
   "source": [
    "path_frames_ordered = list(map(ns.natsorted,path_frames))"
   ]
  },
  {
   "cell_type": "code",
   "execution_count": 58,
   "metadata": {},
   "outputs": [],
   "source": [
    "for i in range(len(path_trial_flat)):\n",
    "    path_session4trial[i] = path_trial_flat[i][:path_trial_flat[i].find('trial'):]\n",
    "    path_trialname[i] = path_trial_flat[i].replace(\"\\\\\", '_')[8:-1]"
   ]
  },
  {
   "cell_type": "code",
   "execution_count": 106,
   "metadata": {},
   "outputs": [],
   "source": [
    "for i in range(len(path_trial_flat)):\n",
    "    img_array = []\n",
    "    for filename in path_frames_ordered[i]:\n",
    "        #print(filename)\n",
    "        img = cv2.imread(filename)\n",
    "        height, width, layers = img.shape\n",
    "        size = (width,height)\n",
    "        img_array.append(img)\n",
    "    out = cv2.VideoWriter(path_session4trial[i] + path_trialname[i] + '.avi',cv2.VideoWriter_fourcc(*'FFV1'), 100, size)\n",
    "    for i in range(len(img_array)):\n",
    "        out.write(img_array[i])\n",
    "    out.release()\n",
    "    del img_array"
   ]
  },
  {
   "cell_type": "code",
   "execution_count": 99,
   "metadata": {},
   "outputs": [],
   "source": [
    "my_path = 'D:/test/'\n",
    "files = glob.glob(my_path + '/**/*.avi', recursive=True)"
   ]
  },
  {
   "cell_type": "code",
   "execution_count": 101,
   "metadata": {},
   "outputs": [],
   "source": [
    "# BE CAUTIONS! This deletes all files with the same suffix!!!\n",
    "# BE CAUTIONS! This deletes all files with the same suffix!!!\n",
    "# BE CAUTIONS! This deletes all files with the same suffix!!!\n",
    "import os\n",
    "for file_name in files:\n",
    "    #4\n",
    "    if file_name.endswith('.avi'):\n",
    "        #5\n",
    "        os.remove(file_name)"
   ]
  },
  {
   "cell_type": "code",
   "execution_count": null,
   "metadata": {},
   "outputs": [],
   "source": []
  },
  {
   "cell_type": "markdown",
   "metadata": {},
   "source": [
    "tiffstack2avi.convert?"
   ]
  }
 ],
 "metadata": {
  "kernelspec": {
   "display_name": "Python 3",
   "language": "python",
   "name": "python3"
  },
  "language_info": {
   "codemirror_mode": {
    "name": "ipython",
    "version": 3
   },
   "file_extension": ".py",
   "mimetype": "text/x-python",
   "name": "python",
   "nbconvert_exporter": "python",
   "pygments_lexer": "ipython3",
   "version": "3.7.7"
  }
 },
 "nbformat": 4,
 "nbformat_minor": 4
}
